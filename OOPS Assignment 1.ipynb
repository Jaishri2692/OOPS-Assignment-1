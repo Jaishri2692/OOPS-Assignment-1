{
 "cells": [
  {
   "cell_type": "code",
   "execution_count": 2,
   "id": "b5869741-e839-42c3-be80-31691e2e6c91",
   "metadata": {},
   "outputs": [],
   "source": [
    "# Q1. Explain Class and Object with respect to Object-Oriented Programming. Give a suitable example.\n",
    "\n",
    "# Object − An object is an instance of a class. Objects have states and behaviors.\n",
    "#        Example: A dog has states - color, name, breed as well as behaviors\n",
    "#        – wagging the tail, barking, eating. \n",
    "\n",
    "# Class − A class can be defined as a template/blueprint that describes the behavior/state \n",
    "#        that the object of its type support.\n",
    "\n",
    "\"\"\" Define Python Class \"\"\"\n",
    "# we use the keyword to create a class in Python. For example,\n",
    "\"\"\"\n",
    "class ClassName:\n",
    "    # class definition \n",
    "\"\"\"    \n",
    "# Here, we have created a class named ClassName."
   ]
  },
  {
   "cell_type": "code",
   "execution_count": null,
   "id": "c3a56ad9-08ce-470c-9b2d-3494166aa488",
   "metadata": {},
   "outputs": [],
   "source": [
    "\"\"\" Python Objects \"\"\"\n",
    "# An object is called an instance of a class. \n",
    "# For example, suppose Bike is a class then we can create objects like bike1, bike2, etc from the class.\n",
    "\n",
    "# Here's the syntax to create an object.\n",
    "\"\"\"\n",
    "objectName = ClassName()\n",
    "\"\"\""
   ]
  },
  {
   "cell_type": "code",
   "execution_count": 3,
   "id": "0e943f66-e1c7-47ec-9be6-b6213946c18f",
   "metadata": {},
   "outputs": [
    {
     "name": "stdout",
     "output_type": "stream",
     "text": [
      "Name: Mountain Bike, Gears: 11 \n"
     ]
    }
   ],
   "source": [
    "# Example 1: Python Class and Objects\n",
    "# define a class\n",
    "class Bike:\n",
    "    name = \"\"\n",
    "    gear = 0\n",
    "\n",
    "# create object of class\n",
    "bike1 = Bike()\n",
    "\n",
    "# access attributes and assign new values\n",
    "bike1.gear = 11\n",
    "bike1.name = \"Mountain Bike\"\n",
    "\n",
    "print(f\"Name: {bike1.name}, Gears: {bike1.gear} \")"
   ]
  },
  {
   "cell_type": "code",
   "execution_count": null,
   "id": "ade895a9-3dfc-4095-8046-c4e59e314a06",
   "metadata": {},
   "outputs": [],
   "source": [
    "# In the above example, we have defined the class named Bike with two attributes: name and gear.\n",
    "# We have also created an object bike1 of the class Bike.\n",
    "# Finally, we have accessed and modified the attributes of an object using the . notation."
   ]
  },
  {
   "cell_type": "code",
   "execution_count": null,
   "id": "075b705b-5b4b-46a8-a89e-df6a3d36bd99",
   "metadata": {},
   "outputs": [],
   "source": [
    "# Q2. Name the four pillars of OOPs.\n",
    "\"\"\"\n",
    "The Four Pillars of Object Oriented Programming: \n",
    "Abstraction.\n",
    "Encapsulation.\n",
    "Inheritance.\n",
    "Polymorphism.\n",
    "\"\"\"\n",
    "# Abstraction: To abstract something away means to hide away the implementation details inside something –\n",
    "#               sometimes a prototype, sometimes a function.So when you call the function you don't have \n",
    "#               to understand exactly what it is doing.\n",
    "\n",
    "# Encapsulation:The definition of encapsulation is \"the action of enclosing something in or as if in a capsule\". \n",
    "#                Removing access to parts of your code and making things private is exactly what Encapsulation \n",
    "#                is all about(often times, people refer to it as data hiding).\n",
    "\n",
    "# Inheritance: Inheritance lets one object acquire the properties and methods of another object.\n",
    "#               Reusability is the main benefit here. \n",
    "\n",
    "# Polymorphism:Polymorphism means \"the condition of occurring in several different forms.\" \n",
    "#              Basically, it just means that we can call the same method on different objects.  \n",
    "#               The real power of polymorphism is sharing behaviours, and allowing custom overrides."
   ]
  },
  {
   "cell_type": "code",
   "execution_count": 5,
   "id": "fab47887-0b6c-4ee3-bf45-a45b22060721",
   "metadata": {},
   "outputs": [
    {
     "name": "stdout",
     "output_type": "stream",
     "text": [
      "From: London\n",
      "To_city: India\n"
     ]
    }
   ],
   "source": [
    "# Q3. Explain why the __init__() function is used. Give a suitable example.\n",
    "\"\"\"\n",
    "The __init__ method is a special python method that runs whenever a new object is created. \n",
    "These types of functions are used to initialize the attributes of that class.\n",
    "\"\"\"\n",
    "class Trip:\n",
    "    def __init__(self, to_city, from_city):\n",
    "        self.to_city = to_city\n",
    "        self.from_city = from_city\n",
    " \n",
    "    def holiday(self):\n",
    "     return (\"From: \" + self.from_city + \"\\nTo_city: \" + self.to_city)\n",
    " \n",
    "T = Trip('India', 'London')\n",
    "print(T.holiday())"
   ]
  },
  {
   "cell_type": "code",
   "execution_count": 6,
   "id": "fed4588c-aa3b-4b00-89f3-f7ba246fac39",
   "metadata": {},
   "outputs": [],
   "source": [
    "# In the above example, a class \"Trip\" is created, and an object ‘T’ is created to invoke the methods and \n",
    "# attributes.As soon as the object is created, __init__ method is initialized with values India and London \n",
    "# which are assigned to \"to_city\" and \"from_city\" respectively. The self keyword represents the current instance \n",
    "# of the object. So when the \" holiday() \" method is run, it prints out the values of \"from_city\" and \"to_city\",\n",
    "# which are London and India, respectively."
   ]
  },
  {
   "cell_type": "code",
   "execution_count": 11,
   "id": "878d66b2-4bd1-4cc9-9f1b-7322f2750cf4",
   "metadata": {},
   "outputs": [
    {
     "name": "stdout",
     "output_type": "stream",
     "text": [
      "Area is: 60\n"
     ]
    }
   ],
   "source": [
    "# Q4. Why self is used in OOPs?\n",
    "\"\"\"\n",
    "The self variable is used to represent the instance of the class which is often used in \n",
    "object-oriented programming. It works as a reference to the object. \n",
    "Python uses the self parameter to refer to instance attributes and methods of the class.\n",
    "\"\"\"\n",
    "class Rectangle (): \n",
    "    def __init__(self,x = 0,y = 0): \n",
    "        self.x = x \n",
    "        self.y = y \n",
    "    def area (self): \n",
    "        \"\"\"Find area of rectangle\"\"\" \n",
    "        return (self.x * self.y) \n",
    "rec1=Rectangle(6,10) \n",
    "print (\"Area is:\", rec1.area()) "
   ]
  },
  {
   "cell_type": "code",
   "execution_count": null,
   "id": "1fc4e033-8040-4058-a9d9-4313111d0475",
   "metadata": {},
   "outputs": [],
   "source": [
    "# we are replacing \"Self\" with the \"another\""
   ]
  },
  {
   "cell_type": "code",
   "execution_count": 12,
   "id": "c5293512-3b15-4067-8ee7-ad80a0d12e73",
   "metadata": {},
   "outputs": [
    {
     "name": "stdout",
     "output_type": "stream",
     "text": [
      "Area is: 60\n"
     ]
    }
   ],
   "source": [
    "class Rectangle (): \n",
    "    def __init__(another,x = 0,y = 0): \n",
    "        another.x = x \n",
    "        another.y = y \n",
    "    def area (another): \n",
    "        \"\"\"Find area of rectangle\"\"\" \n",
    "        return (another.x * another.y) \n",
    "rec1=Rectangle(6,10) \n",
    "print (\"Area is:\", rec1.area()) "
   ]
  },
  {
   "cell_type": "code",
   "execution_count": null,
   "id": "ae98d4b6-9161-4fdb-ac7a-cb6de1d2724d",
   "metadata": {},
   "outputs": [],
   "source": [
    "# Unlike other programming languages like OOPs, where self is considered to be a keyword, \n",
    "# in Python it is a convention that programmers tend to follow. It is basically a parameter in a method definition. \n",
    "# However, you can use any other name in place of self like another or me or anything else for the first parameter\n",
    "# of a method."
   ]
  },
  {
   "cell_type": "code",
   "execution_count": null,
   "id": "ab2370c6-c0e0-4dad-af42-e86601fda6a1",
   "metadata": {},
   "outputs": [],
   "source": [
    "# Q5. What is inheritance? Give an example for each type of inheritance.\n",
    "\"\"\"\n",
    "Inheritance is a mechanism in which one class acquires the property of another class. \n",
    "For example, a child inherits the traits of his/her parents. With inheritance, \n",
    "we can reuse the fields and methods of the existing class.\n",
    "\n",
    "Inheritance is categorized based on the hierarchy followed and \n",
    "the number of parent classes and subclasses involved.\n",
    "\n",
    "There are five types of inheritances:\n",
    "\n",
    "1. Single Inheritance\n",
    "2. Multiple Inheritance\n",
    "3. Multilevel Inheritance\n",
    "4. Hierarchical Inheritance\n",
    "5. Hybrid Inheritance\n"
   ]
  },
  {
   "cell_type": "code",
   "execution_count": 17,
   "id": "41a7b046-0a91-484f-970e-2df64b8c7042",
   "metadata": {},
   "outputs": [
    {
     "name": "stdout",
     "output_type": "stream",
     "text": [
      "This function is in parent class.\n",
      "This function is in child class.\n"
     ]
    }
   ],
   "source": [
    "# 1. Single Inheritance: This type of inheritance enables a subclass or derived class \n",
    "#                        to inherit properties and characteristics of the parent class, \n",
    "#                        this avoids duplication of code and improves code reusability.\n",
    "\n",
    " \n",
    "# Base class\n",
    "class Parent:\n",
    "    def func1(self):\n",
    "        print(\"This function is in parent class.\")\n",
    " \n",
    "# Derived class\n",
    " \n",
    " \n",
    "class Child(Parent):\n",
    "    def func2(self):\n",
    "        print(\"This function is in child class.\")\n",
    " \n",
    " \n",
    "# Driver's code\n",
    "object = Child()\n",
    "object.func1()\n",
    "object.func2()"
   ]
  },
  {
   "cell_type": "code",
   "execution_count": 20,
   "id": "6db32ce9-5681-48ca-9ff6-7d070ca64d20",
   "metadata": {},
   "outputs": [
    {
     "name": "stdout",
     "output_type": "stream",
     "text": [
      "Father : Dr. Sitesh Kumar Singh\n",
      "Mother : Dr. Jaishri Gothania\n"
     ]
    }
   ],
   "source": [
    "# 2. Multiple Inheritance: This inheritance enables a child class to inherit from more than one parent class. \n",
    "#                         This type of inheritance is not supported by java classes, but python does support \n",
    "#                        this kind of inheritance. It has a massive advantage if we have a requirement of \n",
    "#                        gathering multiple characteristics from different classes.\n",
    "\n",
    "# Base class1\n",
    "class Mother:\n",
    "    mothername = \"\"\n",
    " \n",
    "    def mother(self):\n",
    "        print(self.mothername)\n",
    " \n",
    "# Base class2\n",
    " \n",
    " \n",
    "class Father:\n",
    "    fathername = \"\"\n",
    " \n",
    "    def father(self):\n",
    "        print(self.fathername)\n",
    " \n",
    "# Derived class\n",
    " \n",
    " \n",
    "class Daughter(Mother, Father):\n",
    "    def parents(self):\n",
    "        print(\"Father :\", self.fathername)\n",
    "        print(\"Mother :\", self.mothername)\n",
    " \n",
    " \n",
    "# Driver's code\n",
    "d1 = Daughter()\n",
    "d1.fathername = \"Dr. Sitesh Kumar Singh\"\n",
    "d1.mothername = \"Dr. Jaishri Gothania\"\n",
    "d1.parents()"
   ]
  },
  {
   "cell_type": "code",
   "execution_count": 21,
   "id": "3624fa93-04ae-4537-8673-67b5ef92a52d",
   "metadata": {},
   "outputs": [
    {
     "name": "stdout",
     "output_type": "stream",
     "text": [
      "Mauze Mahto\n",
      "Grandfather name : Mauze Mahto\n",
      "Father name : Arun Kumar Singh\n",
      "Son name : Sitesh Kumar Singh\n"
     ]
    }
   ],
   "source": [
    "# 3. Multilevel Inheritance: In multilevel inheritance, the transfer of the properties of characteristics\n",
    "#                           is done to more than one class hierarchically. To get a better visualization \n",
    "#                          we can consider it as an ancestor to grandchildren relation or a root to leaf \n",
    "#                          in a tree with more than one level.\n",
    "\n",
    "\n",
    "# Base class\n",
    " \n",
    " \n",
    "class Grandfather:\n",
    " \n",
    "    def __init__(self, grandfathername):\n",
    "        self.grandfathername = grandfathername\n",
    "\n",
    " \n",
    " # Intermediate class\n",
    "    \n",
    "class Father(Grandfather):\n",
    "    def __init__(self, fathername, grandfathername):\n",
    "        self.fathername = fathername\n",
    " \n",
    "        # invoking constructor of Grandfather class\n",
    "        Grandfather.__init__(self, grandfathername)\n",
    " \n",
    " # Derived class\n",
    "    \n",
    "class Son(Father):\n",
    "    def __init__(self, sonname, fathername, grandfathername):\n",
    "        self.sonname = sonname\n",
    " \n",
    "        # invoking constructor of Father class\n",
    "        Father.__init__(self, fathername, grandfathername)\n",
    " \n",
    "    def print_name(self):\n",
    "        print('Grandfather name :', self.grandfathername)\n",
    "        print(\"Father name :\", self.fathername)\n",
    "        print(\"Son name :\", self.sonname)\n",
    " \n",
    " \n",
    "#  Driver code\n",
    "s1 = Son('Sitesh Kumar Singh', 'Arun Kumar Singh', 'Mauze Mahto')\n",
    "print(s1.grandfathername)\n",
    "s1.print_name()"
   ]
  },
  {
   "cell_type": "code",
   "execution_count": 22,
   "id": "29abdb86-7ca1-485c-ac5e-1515011bfb27",
   "metadata": {},
   "outputs": [
    {
     "name": "stdout",
     "output_type": "stream",
     "text": [
      "This function is in parent class.\n",
      "This function is in child 1.\n",
      "This function is in parent class.\n",
      "This function is in child 2.\n"
     ]
    }
   ],
   "source": [
    "# 4. Hierarchical Inheritance: This inheritance allows a class to host as a parent class for more than \n",
    "#                              one child class or subclass. This provides a benefit of sharing the functioning \n",
    "#                              of methods with multiple child classes, hence avoiding code duplication.\n",
    "\n",
    "# Base class\n",
    "class Parent:\n",
    "    def func1(self):\n",
    "        print(\"This function is in parent class.\")\n",
    " \n",
    "\n",
    " # Derived class1\n",
    " \n",
    "class Child1(Parent):\n",
    "    def func2(self):\n",
    "        print(\"This function is in child 1.\")\n",
    " \n",
    " # Derived class2\n",
    "    \n",
    "class Child2(Parent):\n",
    "    def func3(self):\n",
    "        print(\"This function is in child 2.\")\n",
    " \n",
    " \n",
    "# Driver's code\n",
    "object1 = Child1()\n",
    "object2 = Child2()\n",
    "object1.func1()\n",
    "object1.func2()\n",
    "object2.func1()\n",
    "object2.func3()"
   ]
  },
  {
   "cell_type": "code",
   "execution_count": 23,
   "id": "267359af-1d1e-42c1-8656-94a603b97c94",
   "metadata": {},
   "outputs": [
    {
     "name": "stdout",
     "output_type": "stream",
     "text": [
      "This function is in school.\n",
      "This function is in student 1. \n"
     ]
    }
   ],
   "source": [
    "# 5.Hybrid Inheritance: An inheritance is said hybrid inheritance if more than one type of inheritance \n",
    "#                      is implemented in the same code. This feature enables the user to utilize the feature\n",
    "#                      of inheritance at its best. This satisfies the requirement of implementing a code \n",
    "#                      that needs multiple inheritances in implementation.\n",
    "\n",
    "class School:\n",
    "    def func1(self):\n",
    "        print(\"This function is in school.\")\n",
    " \n",
    " \n",
    "class Student1(School):\n",
    "    def func2(self):\n",
    "        print(\"This function is in student 1. \")\n",
    " \n",
    " \n",
    "class Student2(School):\n",
    "    def func3(self):\n",
    "        print(\"This function is in student 2.\")\n",
    " \n",
    " \n",
    "class Student3(Student1, School):\n",
    "    def func4(self):\n",
    "        print(\"This function is in student 3.\")\n",
    " \n",
    " \n",
    "# Driver's code\n",
    "object = Student3()\n",
    "object.func1()\n",
    "object.func2()"
   ]
  },
  {
   "cell_type": "code",
   "execution_count": null,
   "id": "2a94419d-4071-4082-97db-db6452b9fafb",
   "metadata": {},
   "outputs": [],
   "source": []
  }
 ],
 "metadata": {
  "kernelspec": {
   "display_name": "Python 3 (ipykernel)",
   "language": "python",
   "name": "python3"
  },
  "language_info": {
   "codemirror_mode": {
    "name": "ipython",
    "version": 3
   },
   "file_extension": ".py",
   "mimetype": "text/x-python",
   "name": "python",
   "nbconvert_exporter": "python",
   "pygments_lexer": "ipython3",
   "version": "3.10.8"
  }
 },
 "nbformat": 4,
 "nbformat_minor": 5
}
